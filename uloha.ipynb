{
 "cells": [
  {
   "cell_type": "code",
   "execution_count": 2,
   "id": "8cfd130f025d1181",
   "metadata": {
    "ExecuteTime": {
     "end_time": "2023-12-15T18:53:55.179349049Z",
     "start_time": "2023-12-15T18:53:55.132853632Z"
    },
    "collapsed": false
   },
   "outputs": [],
   "source": [
    "import matplotlib.pyplot as plt\n",
    "import pandas as pd\n",
    "import numpy as np"
   ]
  },
  {
   "cell_type": "markdown",
   "id": "76a3d28e65b18e24",
   "metadata": {
    "collapsed": false
   },
   "source": [
    "# Reading data and first analysis"
   ]
  },
  {
   "cell_type": "code",
   "execution_count": 3,
   "id": "26dc099b6d791397",
   "metadata": {
    "ExecuteTime": {
     "end_time": "2023-12-15T18:51:23.044537454Z",
     "start_time": "2023-12-15T18:51:23.043809213Z"
    },
    "collapsed": false
   },
   "outputs": [],
   "source": [
    "df_data = pd.read_csv('case0102.csv')"
   ]
  },
  {
   "cell_type": "code",
   "execution_count": 4,
   "id": "b10da30367f3903",
   "metadata": {
    "ExecuteTime": {
     "end_time": "2023-12-15T18:51:23.046004762Z",
     "start_time": "2023-12-15T18:51:23.044293008Z"
    },
    "collapsed": false
   },
   "outputs": [
    {
     "data": {
      "text/html": [
       "<div>\n",
       "<style scoped>\n",
       "    .dataframe tbody tr th:only-of-type {\n",
       "        vertical-align: middle;\n",
       "    }\n",
       "\n",
       "    .dataframe tbody tr th {\n",
       "        vertical-align: top;\n",
       "    }\n",
       "\n",
       "    .dataframe thead th {\n",
       "        text-align: right;\n",
       "    }\n",
       "</style>\n",
       "<table border=\"1\" class=\"dataframe\">\n",
       "  <thead>\n",
       "    <tr style=\"text-align: right;\">\n",
       "      <th></th>\n",
       "      <th>Salary</th>\n",
       "      <th>Sex</th>\n",
       "    </tr>\n",
       "  </thead>\n",
       "  <tbody>\n",
       "    <tr>\n",
       "      <th>0</th>\n",
       "      <td>3900</td>\n",
       "      <td>Female</td>\n",
       "    </tr>\n",
       "    <tr>\n",
       "      <th>1</th>\n",
       "      <td>4020</td>\n",
       "      <td>Female</td>\n",
       "    </tr>\n",
       "    <tr>\n",
       "      <th>2</th>\n",
       "      <td>4290</td>\n",
       "      <td>Female</td>\n",
       "    </tr>\n",
       "    <tr>\n",
       "      <th>3</th>\n",
       "      <td>4380</td>\n",
       "      <td>Female</td>\n",
       "    </tr>\n",
       "    <tr>\n",
       "      <th>4</th>\n",
       "      <td>4380</td>\n",
       "      <td>Female</td>\n",
       "    </tr>\n",
       "  </tbody>\n",
       "</table>\n",
       "</div>"
      ],
      "text/plain": [
       "   Salary     Sex\n",
       "0    3900  Female\n",
       "1    4020  Female\n",
       "2    4290  Female\n",
       "3    4380  Female\n",
       "4    4380  Female"
      ]
     },
     "execution_count": 4,
     "metadata": {},
     "output_type": "execute_result"
    }
   ],
   "source": [
    "df_data.head()"
   ]
  },
  {
   "cell_type": "code",
   "execution_count": 5,
   "id": "8e76924e15a7f8d5",
   "metadata": {
    "ExecuteTime": {
     "end_time": "2023-12-15T18:51:23.047913681Z",
     "start_time": "2023-12-15T18:51:23.044913064Z"
    },
    "collapsed": false
   },
   "outputs": [
    {
     "data": {
      "text/html": [
       "<div>\n",
       "<style scoped>\n",
       "    .dataframe tbody tr th:only-of-type {\n",
       "        vertical-align: middle;\n",
       "    }\n",
       "\n",
       "    .dataframe tbody tr th {\n",
       "        vertical-align: top;\n",
       "    }\n",
       "\n",
       "    .dataframe thead th {\n",
       "        text-align: right;\n",
       "    }\n",
       "</style>\n",
       "<table border=\"1\" class=\"dataframe\">\n",
       "  <thead>\n",
       "    <tr style=\"text-align: right;\">\n",
       "      <th></th>\n",
       "      <th>Salary</th>\n",
       "      <th>Sex</th>\n",
       "    </tr>\n",
       "  </thead>\n",
       "  <tbody>\n",
       "    <tr>\n",
       "      <th>0</th>\n",
       "      <td>3900</td>\n",
       "      <td>Female</td>\n",
       "    </tr>\n",
       "    <tr>\n",
       "      <th>1</th>\n",
       "      <td>4020</td>\n",
       "      <td>Female</td>\n",
       "    </tr>\n",
       "    <tr>\n",
       "      <th>2</th>\n",
       "      <td>4290</td>\n",
       "      <td>Female</td>\n",
       "    </tr>\n",
       "    <tr>\n",
       "      <th>3</th>\n",
       "      <td>4380</td>\n",
       "      <td>Female</td>\n",
       "    </tr>\n",
       "    <tr>\n",
       "      <th>4</th>\n",
       "      <td>4380</td>\n",
       "      <td>Female</td>\n",
       "    </tr>\n",
       "    <tr>\n",
       "      <th>...</th>\n",
       "      <td>...</td>\n",
       "      <td>...</td>\n",
       "    </tr>\n",
       "    <tr>\n",
       "      <th>56</th>\n",
       "      <td>6000</td>\n",
       "      <td>Female</td>\n",
       "    </tr>\n",
       "    <tr>\n",
       "      <th>57</th>\n",
       "      <td>6000</td>\n",
       "      <td>Female</td>\n",
       "    </tr>\n",
       "    <tr>\n",
       "      <th>58</th>\n",
       "      <td>6120</td>\n",
       "      <td>Female</td>\n",
       "    </tr>\n",
       "    <tr>\n",
       "      <th>59</th>\n",
       "      <td>6300</td>\n",
       "      <td>Female</td>\n",
       "    </tr>\n",
       "    <tr>\n",
       "      <th>60</th>\n",
       "      <td>6300</td>\n",
       "      <td>Female</td>\n",
       "    </tr>\n",
       "  </tbody>\n",
       "</table>\n",
       "<p>61 rows × 2 columns</p>\n",
       "</div>"
      ],
      "text/plain": [
       "    Salary     Sex\n",
       "0     3900  Female\n",
       "1     4020  Female\n",
       "2     4290  Female\n",
       "3     4380  Female\n",
       "4     4380  Female\n",
       "..     ...     ...\n",
       "56    6000  Female\n",
       "57    6000  Female\n",
       "58    6120  Female\n",
       "59    6300  Female\n",
       "60    6300  Female\n",
       "\n",
       "[61 rows x 2 columns]"
      ]
     },
     "execution_count": 5,
     "metadata": {},
     "output_type": "execute_result"
    }
   ],
   "source": [
    "df_female = df_data[df_data['Sex'] == 'Female']\n",
    "df_female"
   ]
  },
  {
   "cell_type": "code",
   "execution_count": 6,
   "id": "758b492fc6eb6019",
   "metadata": {
    "ExecuteTime": {
     "end_time": "2023-12-15T18:51:23.052463181Z",
     "start_time": "2023-12-15T18:51:23.045320591Z"
    },
    "collapsed": false
   },
   "outputs": [
    {
     "data": {
      "text/html": [
       "<div>\n",
       "<style scoped>\n",
       "    .dataframe tbody tr th:only-of-type {\n",
       "        vertical-align: middle;\n",
       "    }\n",
       "\n",
       "    .dataframe tbody tr th {\n",
       "        vertical-align: top;\n",
       "    }\n",
       "\n",
       "    .dataframe thead th {\n",
       "        text-align: right;\n",
       "    }\n",
       "</style>\n",
       "<table border=\"1\" class=\"dataframe\">\n",
       "  <thead>\n",
       "    <tr style=\"text-align: right;\">\n",
       "      <th></th>\n",
       "      <th>Salary</th>\n",
       "      <th>Sex</th>\n",
       "    </tr>\n",
       "  </thead>\n",
       "  <tbody>\n",
       "    <tr>\n",
       "      <th>61</th>\n",
       "      <td>4620</td>\n",
       "      <td>Male</td>\n",
       "    </tr>\n",
       "    <tr>\n",
       "      <th>62</th>\n",
       "      <td>5040</td>\n",
       "      <td>Male</td>\n",
       "    </tr>\n",
       "    <tr>\n",
       "      <th>63</th>\n",
       "      <td>5100</td>\n",
       "      <td>Male</td>\n",
       "    </tr>\n",
       "    <tr>\n",
       "      <th>64</th>\n",
       "      <td>5100</td>\n",
       "      <td>Male</td>\n",
       "    </tr>\n",
       "    <tr>\n",
       "      <th>65</th>\n",
       "      <td>5220</td>\n",
       "      <td>Male</td>\n",
       "    </tr>\n",
       "    <tr>\n",
       "      <th>66</th>\n",
       "      <td>5400</td>\n",
       "      <td>Male</td>\n",
       "    </tr>\n",
       "    <tr>\n",
       "      <th>67</th>\n",
       "      <td>5400</td>\n",
       "      <td>Male</td>\n",
       "    </tr>\n",
       "    <tr>\n",
       "      <th>68</th>\n",
       "      <td>5400</td>\n",
       "      <td>Male</td>\n",
       "    </tr>\n",
       "    <tr>\n",
       "      <th>69</th>\n",
       "      <td>5400</td>\n",
       "      <td>Male</td>\n",
       "    </tr>\n",
       "    <tr>\n",
       "      <th>70</th>\n",
       "      <td>5400</td>\n",
       "      <td>Male</td>\n",
       "    </tr>\n",
       "    <tr>\n",
       "      <th>71</th>\n",
       "      <td>5700</td>\n",
       "      <td>Male</td>\n",
       "    </tr>\n",
       "    <tr>\n",
       "      <th>72</th>\n",
       "      <td>6000</td>\n",
       "      <td>Male</td>\n",
       "    </tr>\n",
       "    <tr>\n",
       "      <th>73</th>\n",
       "      <td>6000</td>\n",
       "      <td>Male</td>\n",
       "    </tr>\n",
       "    <tr>\n",
       "      <th>74</th>\n",
       "      <td>6000</td>\n",
       "      <td>Male</td>\n",
       "    </tr>\n",
       "    <tr>\n",
       "      <th>75</th>\n",
       "      <td>6000</td>\n",
       "      <td>Male</td>\n",
       "    </tr>\n",
       "    <tr>\n",
       "      <th>76</th>\n",
       "      <td>6000</td>\n",
       "      <td>Male</td>\n",
       "    </tr>\n",
       "    <tr>\n",
       "      <th>77</th>\n",
       "      <td>6000</td>\n",
       "      <td>Male</td>\n",
       "    </tr>\n",
       "    <tr>\n",
       "      <th>78</th>\n",
       "      <td>6000</td>\n",
       "      <td>Male</td>\n",
       "    </tr>\n",
       "    <tr>\n",
       "      <th>79</th>\n",
       "      <td>6000</td>\n",
       "      <td>Male</td>\n",
       "    </tr>\n",
       "    <tr>\n",
       "      <th>80</th>\n",
       "      <td>6000</td>\n",
       "      <td>Male</td>\n",
       "    </tr>\n",
       "    <tr>\n",
       "      <th>81</th>\n",
       "      <td>6000</td>\n",
       "      <td>Male</td>\n",
       "    </tr>\n",
       "    <tr>\n",
       "      <th>82</th>\n",
       "      <td>6000</td>\n",
       "      <td>Male</td>\n",
       "    </tr>\n",
       "    <tr>\n",
       "      <th>83</th>\n",
       "      <td>6000</td>\n",
       "      <td>Male</td>\n",
       "    </tr>\n",
       "    <tr>\n",
       "      <th>84</th>\n",
       "      <td>6000</td>\n",
       "      <td>Male</td>\n",
       "    </tr>\n",
       "    <tr>\n",
       "      <th>85</th>\n",
       "      <td>6300</td>\n",
       "      <td>Male</td>\n",
       "    </tr>\n",
       "    <tr>\n",
       "      <th>86</th>\n",
       "      <td>6600</td>\n",
       "      <td>Male</td>\n",
       "    </tr>\n",
       "    <tr>\n",
       "      <th>87</th>\n",
       "      <td>6600</td>\n",
       "      <td>Male</td>\n",
       "    </tr>\n",
       "    <tr>\n",
       "      <th>88</th>\n",
       "      <td>6600</td>\n",
       "      <td>Male</td>\n",
       "    </tr>\n",
       "    <tr>\n",
       "      <th>89</th>\n",
       "      <td>6840</td>\n",
       "      <td>Male</td>\n",
       "    </tr>\n",
       "    <tr>\n",
       "      <th>90</th>\n",
       "      <td>6900</td>\n",
       "      <td>Male</td>\n",
       "    </tr>\n",
       "    <tr>\n",
       "      <th>91</th>\n",
       "      <td>6900</td>\n",
       "      <td>Male</td>\n",
       "    </tr>\n",
       "    <tr>\n",
       "      <th>92</th>\n",
       "      <td>8100</td>\n",
       "      <td>Male</td>\n",
       "    </tr>\n",
       "  </tbody>\n",
       "</table>\n",
       "</div>"
      ],
      "text/plain": [
       "    Salary   Sex\n",
       "61    4620  Male\n",
       "62    5040  Male\n",
       "63    5100  Male\n",
       "64    5100  Male\n",
       "65    5220  Male\n",
       "66    5400  Male\n",
       "67    5400  Male\n",
       "68    5400  Male\n",
       "69    5400  Male\n",
       "70    5400  Male\n",
       "71    5700  Male\n",
       "72    6000  Male\n",
       "73    6000  Male\n",
       "74    6000  Male\n",
       "75    6000  Male\n",
       "76    6000  Male\n",
       "77    6000  Male\n",
       "78    6000  Male\n",
       "79    6000  Male\n",
       "80    6000  Male\n",
       "81    6000  Male\n",
       "82    6000  Male\n",
       "83    6000  Male\n",
       "84    6000  Male\n",
       "85    6300  Male\n",
       "86    6600  Male\n",
       "87    6600  Male\n",
       "88    6600  Male\n",
       "89    6840  Male\n",
       "90    6900  Male\n",
       "91    6900  Male\n",
       "92    8100  Male"
      ]
     },
     "execution_count": 6,
     "metadata": {},
     "output_type": "execute_result"
    }
   ],
   "source": [
    "df_male = df_data[df_data['Sex'] == 'Male']\n",
    "df_male"
   ]
  },
  {
   "cell_type": "code",
   "execution_count": 7,
   "id": "2719f2c9400dc431",
   "metadata": {
    "ExecuteTime": {
     "end_time": "2023-12-15T18:51:23.067684940Z",
     "start_time": "2023-12-15T18:51:23.052878042Z"
    },
    "collapsed": false
   },
   "outputs": [
    {
     "data": {
      "text/plain": [
       "61    4620\n",
       "62    5040\n",
       "63    5100\n",
       "64    5100\n",
       "65    5220\n",
       "66    5400\n",
       "67    5400\n",
       "68    5400\n",
       "69    5400\n",
       "70    5400\n",
       "71    5700\n",
       "72    6000\n",
       "73    6000\n",
       "74    6000\n",
       "75    6000\n",
       "76    6000\n",
       "77    6000\n",
       "78    6000\n",
       "79    6000\n",
       "80    6000\n",
       "81    6000\n",
       "82    6000\n",
       "83    6000\n",
       "84    6000\n",
       "85    6300\n",
       "86    6600\n",
       "87    6600\n",
       "88    6600\n",
       "89    6840\n",
       "90    6900\n",
       "91    6900\n",
       "92    8100\n",
       "Name: Salary, dtype: int64"
      ]
     },
     "execution_count": 7,
     "metadata": {},
     "output_type": "execute_result"
    }
   ],
   "source": [
    "male_sal = df_male['Salary']\n",
    "male_sal "
   ]
  },
  {
   "cell_type": "code",
   "execution_count": 8,
   "id": "822de81081b9f1d2",
   "metadata": {
    "ExecuteTime": {
     "end_time": "2023-12-15T18:51:23.069388662Z",
     "start_time": "2023-12-15T18:51:23.060816619Z"
    },
    "collapsed": false
   },
   "outputs": [
    {
     "data": {
      "text/plain": [
       "0     3900\n",
       "1     4020\n",
       "2     4290\n",
       "3     4380\n",
       "4     4380\n",
       "      ... \n",
       "56    6000\n",
       "57    6000\n",
       "58    6120\n",
       "59    6300\n",
       "60    6300\n",
       "Name: Salary, Length: 61, dtype: int64"
      ]
     },
     "execution_count": 8,
     "metadata": {},
     "output_type": "execute_result"
    }
   ],
   "source": [
    "female_sal = df_female['Salary']\n",
    "female_sal"
   ]
  },
  {
   "cell_type": "markdown",
   "id": "e7248bd8adfea17d",
   "metadata": {
    "collapsed": false
   },
   "source": [
    "##  Pro každou skupinu zvlášť odhadněte střední hodnotu, rozptyl a medián příslušného rozdělení."
   ]
  },
  {
   "cell_type": "markdown",
   "id": "61250435fd24dcb0",
   "metadata": {
    "collapsed": false
   },
   "source": [
    "### Mean"
   ]
  },
  {
   "cell_type": "code",
   "execution_count": 9,
   "id": "bd776ba42810014a",
   "metadata": {
    "ExecuteTime": {
     "end_time": "2023-12-15T18:51:38.237934683Z",
     "start_time": "2023-12-15T18:51:38.227551081Z"
    },
    "collapsed": false
   },
   "outputs": [
    {
     "data": {
      "text/plain": [
       "5138.852459016393"
      ]
     },
     "execution_count": 9,
     "metadata": {},
     "output_type": "execute_result"
    }
   ],
   "source": [
    "male_sal.mean()\n",
    "\n",
    "female_sal.mean()"
   ]
  },
  {
   "cell_type": "markdown",
   "id": "afc75d6523a09e90",
   "metadata": {
    "collapsed": false
   },
   "source": [
    "### Variance"
   ]
  },
  {
   "cell_type": "code",
   "execution_count": 10,
   "id": "1ff606855aefab9d",
   "metadata": {
    "ExecuteTime": {
     "end_time": "2023-12-15T18:51:23.194680948Z",
     "start_time": "2023-12-15T18:51:23.073971966Z"
    },
    "collapsed": false
   },
   "outputs": [
    {
     "data": {
      "text/plain": [
       "291460.3278688525"
      ]
     },
     "execution_count": 10,
     "metadata": {},
     "output_type": "execute_result"
    }
   ],
   "source": [
    "male_sal.var()\n",
    "\n",
    "female_sal.var()"
   ]
  },
  {
   "cell_type": "markdown",
   "id": "f3930ea02446877f",
   "metadata": {
    "collapsed": false
   },
   "source": [
    "### Median"
   ]
  },
  {
   "cell_type": "code",
   "execution_count": 11,
   "id": "b9f638a6999a4ff",
   "metadata": {
    "ExecuteTime": {
     "end_time": "2023-12-15T18:53:47.416211311Z",
     "start_time": "2023-12-15T18:53:47.407564467Z"
    },
    "collapsed": false
   },
   "outputs": [
    {
     "data": {
      "text/plain": [
       "6000.0"
      ]
     },
     "execution_count": 11,
     "metadata": {},
     "output_type": "execute_result"
    }
   ],
   "source": [
    "male_sal.median()"
   ]
  },
  {
   "cell_type": "code",
   "execution_count": 12,
   "id": "1b069466eaa075d7",
   "metadata": {
    "ExecuteTime": {
     "end_time": "2023-12-15T18:53:45.108541725Z",
     "start_time": "2023-12-15T18:53:45.077943228Z"
    },
    "collapsed": false
   },
   "outputs": [
    {
     "data": {
      "text/plain": [
       "5220.0"
      ]
     },
     "execution_count": 12,
     "metadata": {},
     "output_type": "execute_result"
    }
   ],
   "source": [
    "female_sal.median()"
   ]
  },
  {
   "cell_type": "markdown",
   "id": "54728ccaac8a734a",
   "metadata": {
    "collapsed": false
   },
   "source": [
    "# Pro každou skupinu zvlášť odhadněte hustotu a distribuční funkci pomocí histogramu a empirické distribuční funkce."
   ]
  },
  {
   "cell_type": "code",
   "execution_count": 13,
   "id": "3b31e76a5a11ea49",
   "metadata": {
    "ExecuteTime": {
     "end_time": "2023-12-15T18:51:23.664541581Z",
     "start_time": "2023-12-15T18:51:23.120264493Z"
    },
    "collapsed": false
   },
   "outputs": [
    {
     "data": {
      "text/plain": [
       "Text(0.5, 1.0, 'Female')"
      ]
     },
     "execution_count": 13,
     "metadata": {},
     "output_type": "execute_result"
    },
    {
     "data": {
      "image/png": "[encoded data removed]",
      "text/plain": [
       "<Figure size 640x480 with 2 Axes>"
      ]
     },
     "metadata": {},
     "output_type": "display_data"
    }
   ],
   "source": [
    "fig, (ax1, ax2) = plt.subplots(nrows=2,ncols=1, constrained_layout=True)\n",
    "ax1.hist(x=male_sal, bins=10)\n",
    "ax1.set_title(\"Male\")\n",
    "\n",
    "ax2.hist(x=female_sal, bins=10)\n",
    "ax2.set_title(\"Female\")\n"
   ]
  },
  {
   "cell_type": "markdown",
   "id": "425208e5c18aebf8",
   "metadata": {
    "collapsed": false
   },
   "source": [
    "Udelame hustoty pomoci normalizace"
   ]
  },
  {
   "cell_type": "code",
   "execution_count": 14,
   "id": "eeff2b78cb057d4b",
   "metadata": {
    "ExecuteTime": {
     "end_time": "2023-12-15T18:52:24.570351474Z",
     "start_time": "2023-12-15T18:52:24.028363941Z"
    },
    "collapsed": false
   },
   "outputs": [
    {
     "data": {
      "text/plain": [
       "Text(0.5, 1.0, 'Female')"
      ]
     },
     "execution_count": 14,
     "metadata": {},
     "output_type": "execute_result"
    },
    {
     "data": {
      "image/png": "[encoded data removed]",
      "text/plain": [
       "<Figure size 640x480 with 2 Axes>"
      ]
     },
     "metadata": {},
     "output_type": "display_data"
    }
   ],
   "source": [
    "fig, (ax1, ax2) = plt.subplots(nrows=2,ncols=1, constrained_layout=True)\n",
    "ax1.hist(x=male_sal, bins=10, density=True)\n",
    "ax1.set_title(\"Male\")\n",
    "\n",
    "ax2.hist(x=female_sal, bins=10, density=True)\n",
    "ax2.set_title(\"Female\")"
   ]
  },
  {
   "cell_type": "code",
   "execution_count": 17,
   "id": "5909269560961aec",
   "metadata": {
    "ExecuteTime": {
     "end_time": "2023-12-15T18:58:59.834184424Z",
     "start_time": "2023-12-15T18:58:59.334879429Z"
    },
    "collapsed": false
   },
   "outputs": [],
   "source": [
    "import scipy.stats.distributions  as dist"
   ]
  },
  {
   "cell_type": "code",
   "execution_count": 24,
   "metadata": {},
   "outputs": [
    {
     "data": {
      "text/plain": [
       "array([0, 0, 0, 0, 0, 0, 0, 0, 0, 0], dtype=int32)"
      ]
     },
     "execution_count": 24,
     "metadata": {},
     "output_type": "execute_result"
    }
   ],
   "source": [
    "np.zeros(10, dtype='int32')"
   ]
  },
  {
   "cell_type": "code",
   "execution_count": 26,
   "id": "7cae3f94791a050b",
   "metadata": {
    "ExecuteTime": {
     "end_time": "2023-12-15T19:01:32.573225318Z",
     "start_time": "2023-12-15T19:01:32.077097290Z"
    },
    "collapsed": false
   },
   "outputs": [
    {
     "data": {
      "text/plain": [
       "Text(0.5, 1.0, 'Female')"
      ]
     },
     "execution_count": 26,
     "metadata": {},
     "output_type": "execute_result"
    },
    {
     "data": {
      "image/png": "[encoded data removed]",
      "text/plain": [
       "<Figure size 1000x500 with 2 Axes>"
      ]
     },
     "metadata": {},
     "output_type": "display_data"
    }
   ],
   "source": [
    "fig, (ax1, ax2) = plt.subplots(nrows=2, ncols=1, constrained_layout=True, figsize=(10,5))\n",
    "ax1.hist(x=male_sal, bins=10, density=True)\n",
    "ax1.scatter(x=male_sal, y=np.zeros(len(male_sal), dtype=\"int32\"), color=\"orange\")\n",
    "ax1.set_title(\"Male\")\n",
    "\n",
    "ax2.hist(x=female_sal, bins=10, density=True)\n",
    "ax2.set_title(\"Female\")"
   ]
  },
  {
   "cell_type": "code",
   "execution_count": 29,
   "id": "2b697ef7e270a837",
   "metadata": {
    "ExecuteTime": {
     "end_time": "2023-12-15T19:02:07.255542294Z",
     "start_time": "2023-12-15T19:02:06.754782982Z"
    },
    "collapsed": false
   },
   "outputs": [
    {
     "data": {
      "text/plain": [
       "Text(0.5, 1.0, 'Female')"
      ]
     },
     "execution_count": 29,
     "metadata": {},
     "output_type": "execute_result"
    },
    {
     "data": {
      "image/png": "[encoded data removed]",
      "text/plain": [
       "<Figure size 640x480 with 2 Axes>"
      ]
     },
     "metadata": {},
     "output_type": "display_data"
    }
   ],
   "source": [
    "fig, (ax1, ax2) = plt.subplots(nrows=2,ncols=1, constrained_layout=True)\n",
    "ax1.hist(x=male_sal, bins=10, density=True, cumulative=True)\n",
    "ax1.ecdf(x=male_sal, color='orange')\n",
    "ax1.set_title(\"Male\")\n",
    "\n",
    "\n",
    "ax2.hist(x=female_sal, bins=10, density=True, cumulative=True)\n",
    "ax2.ecdf(x=female_sal, color='orange')\n",
    "ax2.set_title(\"Female\")"
   ]
  },
  {
   "cell_type": "code",
   "execution_count": 30,
   "id": "dee977bef75056d6",
   "metadata": {
    "collapsed": false
   },
   "outputs": [],
   "source": [
    "from scipy import stats"
   ]
  },
  {
   "cell_type": "code",
   "execution_count": null,
   "metadata": {},
   "outputs": [],
   "source": [
    "# mean_hat, stdstats.norm.fit()"
   ]
  }
 ],
 "metadata": {
  "kernelspec": {
   "display_name": "Python 3",
   "language": "python",
   "name": "python3"
  },
  "language_info": {
   "codemirror_mode": {
    "name": "ipython",
    "version": 3
   },
   "file_extension": ".py",
   "mimetype": "text/x-python",
   "name": "python",
   "nbconvert_exporter": "python",
   "pygments_lexer": "ipython3",
   "version": "3.12.0"
  }
 },
 "nbformat": 4,
 "nbformat_minor": 5
}
